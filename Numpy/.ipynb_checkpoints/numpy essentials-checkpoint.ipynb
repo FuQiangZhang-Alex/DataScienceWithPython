{
 "cells": [
  {
   "cell_type": "markdown",
   "metadata": {},
   "source": [
    "# NumPy ndarray\n",
    "> avoid *from numpy import ** , which will cause confusion and conflict with other modules"
   ]
  },
  {
   "cell_type": "code",
   "execution_count": 1,
   "metadata": {
    "collapsed": false
   },
   "outputs": [
    {
     "name": "stdout",
     "output_type": "stream",
     "text": [
      "[[1 2 3]\n",
      " [2 3 4]]\n"
     ]
    }
   ],
   "source": [
    "import numpy as np\n",
    "x = np.array([[1, 2, 3], [2, 3, 4]])\n",
    "print(x)"
   ]
  },
  {
   "cell_type": "markdown",
   "metadata": {},
   "source": [
    "* Use **ndim** attribute to get the dimmension of an array"
   ]
  },
  {
   "cell_type": "code",
   "execution_count": 2,
   "metadata": {
    "collapsed": false
   },
   "outputs": [
    {
     "data": {
      "text/plain": [
       "2"
      ]
     },
     "execution_count": 2,
     "metadata": {},
     "output_type": "execute_result"
    }
   ],
   "source": [
    "x.ndim"
   ]
  },
  {
   "cell_type": "code",
   "execution_count": 3,
   "metadata": {
    "collapsed": false
   },
   "outputs": [
    {
     "data": {
      "text/plain": [
       "(2, 3)"
      ]
     },
     "execution_count": 3,
     "metadata": {},
     "output_type": "execute_result"
    }
   ],
   "source": [
    "x.shape"
   ]
  },
  {
   "cell_type": "markdown",
   "metadata": {},
   "source": [
    "## Array indexing and slicing"
   ]
  },
  {
   "cell_type": "code",
   "execution_count": 3,
   "metadata": {
    "collapsed": false
   },
   "outputs": [
    {
     "data": {
      "text/plain": [
       "array([[[ 0.26437847,  0.80164233,  0.82625471,  0.59607897,  0.83895227],\n",
       "        [ 0.76398099,  0.71879652,  0.37390207,  0.25422914,  0.68812365],\n",
       "        [ 0.93781487,  0.65187547,  0.72149537,  0.79652745,  0.71108631],\n",
       "        [ 0.73442666,  0.13090776,  0.70074357,  0.74525315,  0.6073456 ]],\n",
       "\n",
       "       [[ 0.42210814,  0.91178805,  0.06946539,  0.73285394,  0.15558986],\n",
       "        [ 0.64783686,  0.77577682,  0.748246  ,  0.38964352,  0.58910809],\n",
       "        [ 0.59608485,  0.55435544,  0.80492638,  0.74173767,  0.5881487 ],\n",
       "        [ 0.81669809,  0.301606  ,  0.49532253,  0.96698657,  0.06939879]],\n",
       "\n",
       "       [[ 0.68660551,  0.36002865,  0.35094605,  0.52450347,  0.0518192 ],\n",
       "        [ 0.09791141,  0.83985057,  0.78365145,  0.39651623,  0.78734257],\n",
       "        [ 0.48637775,  0.55254813,  0.88448288,  0.21418904,  0.5891296 ],\n",
       "        [ 0.59833343,  0.80132861,  0.05866252,  0.74726322,  0.67708837]]])"
      ]
     },
     "execution_count": 3,
     "metadata": {},
     "output_type": "execute_result"
    }
   ],
   "source": [
    "x = np.random.random((3, 4, 5))\n",
    "x"
   ]
  },
  {
   "cell_type": "code",
   "execution_count": 10,
   "metadata": {
    "collapsed": false
   },
   "outputs": [
    {
     "data": {
      "text/plain": [
       "0.63885411730593111"
      ]
     },
     "execution_count": 10,
     "metadata": {},
     "output_type": "execute_result"
    }
   ],
   "source": [
    "x[(1, 2, 3)]"
   ]
  },
  {
   "cell_type": "code",
   "execution_count": 17,
   "metadata": {
    "collapsed": false
   },
   "outputs": [
    {
     "data": {
      "text/plain": [
       "array([ 0.45043811,  0.73449053,  0.97101124])"
      ]
     },
     "execution_count": 17,
     "metadata": {},
     "output_type": "execute_result"
    }
   ],
   "source": [
    "x[1, 1:, 1]"
   ]
  },
  {
   "cell_type": "code",
   "execution_count": 18,
   "metadata": {
    "collapsed": false
   },
   "outputs": [
    {
     "data": {
      "text/plain": [
       "array([[ 0.35275133,  0.54398307,  0.94688182,  0.12506365],\n",
       "       [ 0.66073845,  0.9606453 ,  0.34734895,  0.44136876],\n",
       "       [ 0.26642123,  0.28365086,  0.45140476,  0.3218879 ]])"
      ]
     },
     "execution_count": 18,
     "metadata": {},
     "output_type": "execute_result"
    }
   ],
   "source": [
    "y = np.random.random((3, 4))\n",
    "y"
   ]
  },
  {
   "cell_type": "code",
   "execution_count": 19,
   "metadata": {
    "collapsed": false
   },
   "outputs": [
    {
     "data": {
      "text/plain": [
       "array([ 0.66073845,  0.9606453 ,  0.34734895,  0.44136876])"
      ]
     },
     "execution_count": 19,
     "metadata": {},
     "output_type": "execute_result"
    }
   ],
   "source": [
    "y[1, :] // 2nd row"
   ]
  },
  {
   "cell_type": "code",
   "execution_count": 21,
   "metadata": {
    "collapsed": false
   },
   "outputs": [
    {
     "data": {
      "text/plain": [
       "array([ 0.66073845,  0.9606453 ,  0.34734895])"
      ]
     },
     "execution_count": 21,
     "metadata": {},
     "output_type": "execute_result"
    }
   ],
   "source": [
    "y[1, :-1]  // 2nd row"
   ]
  },
  {
   "cell_type": "code",
   "execution_count": 22,
   "metadata": {
    "collapsed": false
   },
   "outputs": [
    {
     "data": {
      "text/plain": [
       "array([ 0.54398307,  0.9606453 ,  0.28365086])"
      ]
     },
     "execution_count": 22,
     "metadata": {},
     "output_type": "execute_result"
    }
   ],
   "source": [
    "y[:, 1]  // second column"
   ]
  },
  {
   "cell_type": "code",
   "execution_count": 24,
   "metadata": {
    "collapsed": false
   },
   "outputs": [
    {
     "data": {
      "text/plain": [
       "array([[ 0.12506365,  0.94688182,  0.54398307,  0.35275133],\n",
       "       [ 0.44136876,  0.34734895,  0.9606453 ,  0.66073845],\n",
       "       [ 0.3218879 ,  0.45140476,  0.28365086,  0.26642123]])"
      ]
     },
     "execution_count": 24,
     "metadata": {},
     "output_type": "execute_result"
    }
   ],
   "source": [
    "y[:, ::-1]  // reverse column"
   ]
  },
  {
   "cell_type": "code",
   "execution_count": 25,
   "metadata": {
    "collapsed": false
   },
   "outputs": [
    {
     "data": {
      "text/plain": [
       "array([[ 0.26642123,  0.28365086,  0.45140476,  0.3218879 ],\n",
       "       [ 0.66073845,  0.9606453 ,  0.34734895,  0.44136876],\n",
       "       [ 0.35275133,  0.54398307,  0.94688182,  0.12506365]])"
      ]
     },
     "execution_count": 25,
     "metadata": {},
     "output_type": "execute_result"
    }
   ],
   "source": [
    "y[::-1, :]  // reverse row"
   ]
  },
  {
   "cell_type": "code",
   "execution_count": 5,
   "metadata": {
    "collapsed": false
   },
   "outputs": [
    {
     "data": {
      "text/plain": [
       "array([ 0.59608485,  0.55435544,  0.80492638,  0.74173767,  0.5881487 ])"
      ]
     },
     "execution_count": 5,
     "metadata": {},
     "output_type": "execute_result"
    }
   ],
   "source": [
    "x[1, 2]"
   ]
  },
  {
   "cell_type": "markdown",
   "metadata": {
    "collapsed": true
   },
   "source": [
    "## Memory layout of ndarray\n",
    "**flags** attribute holds information about the memory layout of the array.\n",
    "* C_CONTIGUOUS indicates whether the array was C-style array: row-major indexing\n",
    "* F_CONTIGUOUS indicates whether the array was Fortran-style array: column-major indexing \n",
    "\n",
    "It is very important to know the difference, which can speed up your program."
   ]
  },
  {
   "cell_type": "code",
   "execution_count": 6,
   "metadata": {
    "collapsed": false
   },
   "outputs": [
    {
     "data": {
      "text/plain": [
       "  C_CONTIGUOUS : True\n",
       "  F_CONTIGUOUS : False\n",
       "  OWNDATA : True\n",
       "  WRITEABLE : True\n",
       "  ALIGNED : True\n",
       "  UPDATEIFCOPY : False"
      ]
     },
     "execution_count": 6,
     "metadata": {},
     "output_type": "execute_result"
    }
   ],
   "source": [
    "x.flags"
   ]
  },
  {
   "cell_type": "markdown",
   "metadata": {},
   "source": [
    "**Example**:"
   ]
  },
  {
   "cell_type": "code",
   "execution_count": 18,
   "metadata": {
    "collapsed": false
   },
   "outputs": [
    {
     "name": "stdout",
     "output_type": "stream",
     "text": [
      "The slowest run took 5.90 times longer than the fastest. This could mean that an intermediate result is being cached.\n",
      "100000 loops, best of 3: 6.99 µs per loop\n",
      "The slowest run took 5.25 times longer than the fastest. This could mean that an intermediate result is being cached.\n",
      "100000 loops, best of 3: 19.3 µs per loop\n",
      "10000 loops, best of 3: 90 µs per loop\n",
      "100000 loops, best of 3: 7.16 µs per loop\n"
     ]
    }
   ],
   "source": [
    "c_array = np.random.rand(10000, 10000)\n",
    "f_array = np.asfortranarray(c_array)\n",
    "def sum_row(x):\n",
    "    return np.sum(x[0, :])\n",
    "def sum_column(x):\n",
    "    return np.sum(x[:, 0])\n",
    "\n",
    "%timeit sum_row(c_array)\n",
    "%timeit sum_row(f_array)\n",
    "%timeit sum_column(c_array)\n",
    "%timeit sum_column(f_array)"
   ]
  },
  {
   "cell_type": "markdown",
   "metadata": {},
   "source": [
    "## Views and copies\n",
    "2 ways of accessing data by slicing and indexing - copies and views: you can either access elements directly or create a copy of the array that contains only the accessed elements.\n",
    "Use **may_share_memory** to check whether two arrays are copies or views of each other. While this method does the job in most cases, it is not always reliable, since it uses heuristics."
   ]
  },
  {
   "cell_type": "code",
   "execution_count": 2,
   "metadata": {
    "collapsed": true
   },
   "outputs": [],
   "source": [
    "x = np.random.rand(100, 10)"
   ]
  },
  {
   "cell_type": "code",
   "execution_count": 3,
   "metadata": {
    "collapsed": true
   },
   "outputs": [],
   "source": [
    "y = x[:5, :]"
   ]
  },
  {
   "cell_type": "code",
   "execution_count": 4,
   "metadata": {
    "collapsed": false
   },
   "outputs": [
    {
     "data": {
      "text/plain": [
       "True"
      ]
     },
     "execution_count": 4,
     "metadata": {},
     "output_type": "execute_result"
    }
   ],
   "source": [
    "np.may_share_memory(x, y)  # y is a view of x"
   ]
  },
  {
   "cell_type": "markdown",
   "metadata": {},
   "source": [
    "* y is a view(a reference to x) of x, if we change y, x will be changed too."
   ]
  },
  {
   "cell_type": "code",
   "execution_count": 6,
   "metadata": {
    "collapsed": false
   },
   "outputs": [
    {
     "data": {
      "text/plain": [
       "array([[ 0.,  0.,  0.,  0.,  0.,  0.,  0.,  0.,  0.,  0.],\n",
       "       [ 0.,  0.,  0.,  0.,  0.,  0.,  0.,  0.,  0.,  0.],\n",
       "       [ 0.,  0.,  0.,  0.,  0.,  0.,  0.,  0.,  0.,  0.],\n",
       "       [ 0.,  0.,  0.,  0.,  0.,  0.,  0.,  0.,  0.,  0.],\n",
       "       [ 0.,  0.,  0.,  0.,  0.,  0.,  0.,  0.,  0.,  0.]])"
      ]
     },
     "execution_count": 6,
     "metadata": {},
     "output_type": "execute_result"
    }
   ],
   "source": [
    "y [:] = 0\n",
    "x[:5,:]"
   ]
  },
  {
   "cell_type": "markdown",
   "metadata": {},
   "source": [
    "* y is a copy of x, which is independent from x. Changing y won't affect x"
   ]
  },
  {
   "cell_type": "code",
   "execution_count": 13,
   "metadata": {
    "collapsed": false
   },
   "outputs": [
    {
     "name": "stdout",
     "output_type": "stream",
     "text": [
      "y:  [[ 0.31446063  0.40567077  0.52808131  0.92165188  0.71207395  0.40662951\n",
      "   0.56544913  0.9139226   0.13805357  0.8929419 ]\n",
      " [ 0.63991351  0.31606078  0.39307608  0.79875712  0.00159579  0.90698844\n",
      "   0.07898949  0.21082609  0.16894868  0.35943743]\n",
      " [ 0.85636721  0.56875043  0.28457974  0.42140064  0.18784317  0.05623059\n",
      "   0.81073741  0.98003296  0.09038954  0.57298738]\n",
      " [ 0.10199465  0.56411442  0.0921287   0.78169324  0.29586504  0.02769341\n",
      "   0.88835059  0.72881954  0.17525631  0.68224582]\n",
      " [ 0.85123524  0.18607454  0.84929094  0.67369407  0.04138161  0.1624432\n",
      "   0.6355854   0.44047373  0.61986576  0.81339425]]\n",
      "x:  [[ 0.31446063  0.40567077  0.52808131  0.92165188  0.71207395  0.40662951\n",
      "   0.56544913  0.9139226   0.13805357  0.8929419 ]\n",
      " [ 0.63991351  0.31606078  0.39307608  0.79875712  0.00159579  0.90698844\n",
      "   0.07898949  0.21082609  0.16894868  0.35943743]\n",
      " [ 0.85636721  0.56875043  0.28457974  0.42140064  0.18784317  0.05623059\n",
      "   0.81073741  0.98003296  0.09038954  0.57298738]\n",
      " [ 0.10199465  0.56411442  0.0921287   0.78169324  0.29586504  0.02769341\n",
      "   0.88835059  0.72881954  0.17525631  0.68224582]\n",
      " [ 0.85123524  0.18607454  0.84929094  0.67369407  0.04138161  0.1624432\n",
      "   0.6355854   0.44047373  0.61986576  0.81339425]]\n",
      "y:  [[ 0.  0.  0.  0.  0.  0.  0.  0.  0.  0.]\n",
      " [ 0.  0.  0.  0.  0.  0.  0.  0.  0.  0.]\n",
      " [ 0.  0.  0.  0.  0.  0.  0.  0.  0.  0.]\n",
      " [ 0.  0.  0.  0.  0.  0.  0.  0.  0.  0.]\n",
      " [ 0.  0.  0.  0.  0.  0.  0.  0.  0.  0.]]\n"
     ]
    }
   ],
   "source": [
    "x = np.random.rand(100, 10)\n",
    "y = np.empty([5, 10])\n",
    "y[:] = x[:5, :]\n",
    "print('y: ', y)\n",
    "y[:] = 0\n",
    "print('x: ', x[:5, :])\n",
    "print('y: ', y)"
   ]
  },
  {
   "cell_type": "markdown",
   "metadata": {},
   "source": [
    "## Creating Arrays\n",
    "Arrays can be created from:\n",
    "* instance from other data structure\n",
    "* reading files on disk\n",
    "* web\n",
    "In this section, we will use list or functions in numpy"
   ]
  },
  {
   "cell_type": "markdown",
   "metadata": {},
   "source": [
    "### Creating arrays from lists\n",
    "To create a valid array object, arguments to array functions need to adhere to at least one of the following conditions:\n",
    "* It has to be a valid iterable value or sequence, which may be nested\n",
    "* It must have an **__array__** method that returns a valid numpy array\n",
    "> The np.array() function will normally cast all input elements into the most suitable data type required for the array."
   ]
  },
  {
   "cell_type": "code",
   "execution_count": 19,
   "metadata": {
    "collapsed": false
   },
   "outputs": [
    {
     "name": "stdout",
     "output_type": "stream",
     "text": [
      "['1' '2' '3' 'hello'] ['hello' 'world'] ['1' '2' '3' '4.5' '6.9' 'hello'] ['1' '2' '3' '4.5' '6.9' 'hello']\n"
     ]
    }
   ],
   "source": [
    "x = np.array([1, 2, 3, 'hello'])  # all to string\n",
    "y = np.array(['hello', 'world'])  # all string\n",
    "z = np.array([1, 2, 3, 4.5, 6.9, 'hello'])  # all to string\n",
    "a = np.array((1, 2, 3, 4.5, 6.9, 'hello'))  # all to string\n",
    "print(x, y, z, a)"
   ]
  },
  {
   "cell_type": "code",
   "execution_count": 21,
   "metadata": {
    "collapsed": false
   },
   "outputs": [
    {
     "data": {
      "text/plain": [
       "array([0, 1, 2, 3, 4])"
      ]
     },
     "execution_count": 21,
     "metadata": {},
     "output_type": "execute_result"
    }
   ],
   "source": [
    "np.arange(5)  # range creates array"
   ]
  },
  {
   "cell_type": "code",
   "execution_count": 22,
   "metadata": {
    "collapsed": false
   },
   "outputs": [
    {
     "data": {
      "text/plain": [
       "array([['1', '2', '3', '4'],\n",
       "       ['1', '2', '3', '5']], \n",
       "      dtype='<U21')"
      ]
     },
     "execution_count": 22,
     "metadata": {},
     "output_type": "execute_result"
    }
   ],
   "source": [
    "np.array([[1, 2, 3, 4], [1, 2, 3, '5']])  # nested list creates 2 dimentaion array"
   ]
  },
  {
   "cell_type": "markdown",
   "metadata": {},
   "source": [
    "### Creating random arrays\n",
    "* Create random arrays\n",
    "* Create random permutations of arrays\n",
    "* Generate arrays with specific probability distributions"
   ]
  },
  {
   "cell_type": "code",
   "execution_count": 27,
   "metadata": {
    "collapsed": false
   },
   "outputs": [
    {
     "data": {
      "text/plain": [
       "(2, 2, 3)"
      ]
     },
     "execution_count": 27,
     "metadata": {},
     "output_type": "execute_result"
    }
   ],
   "source": [
    "x = np.random.rand(2, 2, 3)\n",
    "x.shape"
   ]
  },
  {
   "cell_type": "code",
   "execution_count": 28,
   "metadata": {
    "collapsed": false
   },
   "outputs": [
    {
     "data": {
      "text/plain": [
       "(2, 2, 3)"
      ]
     },
     "execution_count": 28,
     "metadata": {},
     "output_type": "execute_result"
    }
   ],
   "source": [
    "y = np.random.random((2, 2, 3))\n",
    "y.shape"
   ]
  },
  {
   "cell_type": "markdown",
   "metadata": {},
   "source": [
    "> rand is a convenience function for random. these two functions can only create arrays of floats."
   ]
  },
  {
   "cell_type": "markdown",
   "metadata": {},
   "source": [
    "Use **randint()** to create arrays of integers"
   ]
  },
  {
   "cell_type": "code",
   "execution_count": null,
   "metadata": {
    "collapsed": true
   },
   "outputs": [],
   "source": []
  }
 ],
 "metadata": {
  "kernelspec": {
   "display_name": "Python 3",
   "language": "python",
   "name": "python3"
  },
  "language_info": {
   "codemirror_mode": {
    "name": "ipython",
    "version": 3
   },
   "file_extension": ".py",
   "mimetype": "text/x-python",
   "name": "python",
   "nbconvert_exporter": "python",
   "pygments_lexer": "ipython3",
   "version": "3.5.2"
  }
 },
 "nbformat": 4,
 "nbformat_minor": 1
}
